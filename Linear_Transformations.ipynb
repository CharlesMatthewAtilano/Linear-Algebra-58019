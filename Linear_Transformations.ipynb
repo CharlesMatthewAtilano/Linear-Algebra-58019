{
  "nbformat": 4,
  "nbformat_minor": 0,
  "metadata": {
    "colab": {
      "name": "Linear Transformations",
      "provenance": [],
      "collapsed_sections": [],
      "authorship_tag": "ABX9TyMkH5IXwbhZ0k08wpD99QOs",
      "include_colab_link": true
    },
    "kernelspec": {
      "name": "python3",
      "display_name": "Python 3"
    },
    "language_info": {
      "name": "python"
    }
  },
  "cells": [
    {
      "cell_type": "markdown",
      "metadata": {
        "id": "view-in-github",
        "colab_type": "text"
      },
      "source": [
        "<a href=\"https://colab.research.google.com/github/Matchuuuuu/Linear-Algebra-58019/blob/main/Linear_Transformations.ipynb\" target=\"_parent\"><img src=\"https://colab.research.google.com/assets/colab-badge.svg\" alt=\"Open In Colab\"/></a>"
      ]
    },
    {
      "cell_type": "markdown",
      "metadata": {
        "id": "3rc2TtRMD3KG"
      },
      "source": [
        "#Using Python Codes, to find the inverse of matrix, the matrix is passed to the linalg. inv() of the NumPy module:"
      ]
    },
    {
      "cell_type": "code",
      "metadata": {
        "colab": {
          "base_uri": "https://localhost:8080/"
        },
        "id": "c8oqVS4uD4RW",
        "outputId": "14209d1a-8c17-4cd3-df50-0132f57b114e"
      },
      "source": [
        "import numpy as np\n",
        "A=np.array([[4,3],[-5,9]])\n",
        "print(A)"
      ],
      "execution_count": null,
      "outputs": [
        {
          "output_type": "stream",
          "name": "stdout",
          "text": [
            "[[ 4  3]\n",
            " [-5  9]]\n"
          ]
        }
      ]
    },
    {
      "cell_type": "code",
      "metadata": {
        "colab": {
          "base_uri": "https://localhost:8080/"
        },
        "id": "u8RodFHZDdtj",
        "outputId": "1f667a35-5de8-4726-c1b9-463146d34a2a"
      },
      "source": [
        "import numpy as np\n",
        "A=np.array([[4,3],[-5,9]])\n",
        "print(A)\n",
        "inv_A = np.linalg.inv(A)\n",
        "print(inv_A)"
      ],
      "execution_count": null,
      "outputs": [
        {
          "output_type": "stream",
          "name": "stdout",
          "text": [
            "[[ 4  3]\n",
            " [-5  9]]\n",
            "[[ 0.17647059 -0.05882353]\n",
            " [ 0.09803922  0.07843137]]\n"
          ]
        }
      ]
    },
    {
      "cell_type": "code",
      "metadata": {
        "colab": {
          "base_uri": "https://localhost:8080/"
        },
        "id": "FCfyGafNFlzJ",
        "outputId": "450392b2-8b31-4d04-a9cf-2198cb650294"
      },
      "source": [
        "B = np.array([[20],[26]])\n",
        "print(B)"
      ],
      "execution_count": null,
      "outputs": [
        {
          "output_type": "stream",
          "name": "stdout",
          "text": [
            "[[20]\n",
            " [26]]\n"
          ]
        }
      ]
    },
    {
      "cell_type": "code",
      "metadata": {
        "colab": {
          "base_uri": "https://localhost:8080/"
        },
        "id": "rlq2ucJ3FoXx",
        "outputId": "83357919-0986-4652-9fb6-63e322b41601"
      },
      "source": [
        "X = np.linalg.inv(A).dot(B)\n",
        "print(X)\n",
        "\n"
      ],
      "execution_count": null,
      "outputs": [
        {
          "output_type": "stream",
          "name": "stdout",
          "text": [
            "[[2.]\n",
            " [4.]]\n"
          ]
        }
      ]
    },
    {
      "cell_type": "code",
      "metadata": {
        "colab": {
          "base_uri": "https://localhost:8080/"
        },
        "id": "qLsqQmCbF_ME",
        "outputId": "1137868e-4028-4763-9e12-512b23fd1ba5"
      },
      "source": [
        "X = np.dot(inv_A,B)\n",
        "print(X)\n"
      ],
      "execution_count": null,
      "outputs": [
        {
          "output_type": "stream",
          "name": "stdout",
          "text": [
            "[[2.]\n",
            " [4.]]\n"
          ]
        }
      ]
    },
    {
      "cell_type": "code",
      "metadata": {
        "colab": {
          "base_uri": "https://localhost:8080/"
        },
        "id": "QK9rjMoPHgFf",
        "outputId": "6ff42047-69bd-45a0-9b36-b731144417ba"
      },
      "source": [
        "A = np.array ([[20,10],[17,22]])\n",
        "print (A)\n",
        "inv_A  = np.linalg.inv(A)\n",
        "print (inv_A)"
      ],
      "execution_count": null,
      "outputs": [
        {
          "output_type": "stream",
          "name": "stdout",
          "text": [
            "[[20 10]\n",
            " [17 22]]\n",
            "[[ 0.08148148 -0.03703704]\n",
            " [-0.06296296  0.07407407]]\n"
          ]
        }
      ]
    },
    {
      "cell_type": "code",
      "metadata": {
        "colab": {
          "base_uri": "https://localhost:8080/"
        },
        "id": "PRBdurO7MQe8",
        "outputId": "2aecb1cf-6421-4691-be2b-3c08b77c849f"
      },
      "source": [
        "B = np.array([[350],[500]])\n",
        "print(B)"
      ],
      "execution_count": null,
      "outputs": [
        {
          "output_type": "stream",
          "name": "stdout",
          "text": [
            "[[350]\n",
            " [500]]\n"
          ]
        }
      ]
    },
    {
      "cell_type": "code",
      "metadata": {
        "colab": {
          "base_uri": "https://localhost:8080/"
        },
        "id": "1K1iodqaMXyl",
        "outputId": "a99d9e69-9028-4d4b-fc25-f7b54d7947f4"
      },
      "source": [
        "X = np.dot(inv_A,B)\n",
        "print(X)\n"
      ],
      "execution_count": null,
      "outputs": [
        {
          "output_type": "stream",
          "name": "stdout",
          "text": [
            "[[10.]\n",
            " [15.]]\n"
          ]
        }
      ]
    },
    {
      "cell_type": "code",
      "metadata": {
        "colab": {
          "base_uri": "https://localhost:8080/"
        },
        "id": "vhrYb3VqNziR",
        "outputId": "2b719df7-993b-4f50-d6ae-6b6b32a08868"
      },
      "source": [
        "B=np.dot(A,X)\n",
        "print (B)\n"
      ],
      "execution_count": null,
      "outputs": [
        {
          "output_type": "stream",
          "name": "stdout",
          "text": [
            "[[350.]\n",
            " [500.]]\n"
          ]
        }
      ]
    },
    {
      "cell_type": "markdown",
      "metadata": {
        "id": "O5Hg_I3xQmBo"
      },
      "source": [
        "ACTIVITY"
      ]
    },
    {
      "cell_type": "code",
      "metadata": {
        "colab": {
          "base_uri": "https://localhost:8080/"
        },
        "id": "RbyPQ5yWQkZ3",
        "outputId": "f6ce0582-6c3c-4202-fa81-223b9bfcbb04"
      },
      "source": [
        "import numpy as np\n",
        "A = np.array([[[4,3,2],[-2,2,3],[3,-5,2]]]) #creation of matrix A\n",
        "print (A)\n",
        "inv_A = np.linalg.inv(A)\n",
        "print(inv_A)"
      ],
      "execution_count": null,
      "outputs": [
        {
          "output_type": "stream",
          "name": "stdout",
          "text": [
            "[[[ 4  3  2]\n",
            "  [-2  2  3]\n",
            "  [ 3 -5  2]]]\n",
            "[[[ 0.15447154 -0.1300813   0.04065041]\n",
            "  [ 0.10569106  0.01626016 -0.1300813 ]\n",
            "  [ 0.03252033  0.23577236  0.11382114]]]\n"
          ]
        }
      ]
    },
    {
      "cell_type": "code",
      "metadata": {
        "colab": {
          "base_uri": "https://localhost:8080/"
        },
        "id": "ZNv2b26IQ5Pa",
        "outputId": "0dc4d2d6-fd1a-479c-c9c4-62fa8eb6826c"
      },
      "source": [
        "B = np.array ([[25],[-10],[-4]])\n",
        "print(B)"
      ],
      "execution_count": null,
      "outputs": [
        {
          "output_type": "stream",
          "name": "stdout",
          "text": [
            "[[ 25]\n",
            " [-10]\n",
            " [ -4]]\n"
          ]
        }
      ]
    },
    {
      "cell_type": "code",
      "metadata": {
        "colab": {
          "base_uri": "https://localhost:8080/"
        },
        "id": "OxfZa94tRFK9",
        "outputId": "e40c01a3-b440-4122-8fd5-af3cd76d8fb8"
      },
      "source": [
        "X = np.linalg.inv(A).dot(B)\n",
        "print (X)"
      ],
      "execution_count": null,
      "outputs": [
        {
          "output_type": "stream",
          "name": "stdout",
          "text": [
            "[[[ 5.]\n",
            "  [ 3.]\n",
            "  [-2.]]]\n"
          ]
        }
      ]
    },
    {
      "cell_type": "code",
      "metadata": {
        "colab": {
          "base_uri": "https://localhost:8080/"
        },
        "id": "qi0hAEn3RcRM",
        "outputId": "393e21af-ab15-4164-be7d-530d01c400ec"
      },
      "source": [
        "X = np.dot(inv_A,B)\n",
        "print(X)"
      ],
      "execution_count": null,
      "outputs": [
        {
          "output_type": "stream",
          "name": "stdout",
          "text": [
            "[[[ 5.]\n",
            "  [ 3.]\n",
            "  [-2.]]]\n"
          ]
        }
      ]
    }
  ]
}