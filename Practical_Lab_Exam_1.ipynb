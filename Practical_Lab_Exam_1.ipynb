{
  "nbformat": 4,
  "nbformat_minor": 0,
  "metadata": {
    "colab": {
      "name": "Practical Lab Exam 1",
      "provenance": [],
      "authorship_tag": "ABX9TyNpAXZJmhDLgLZ/qi25FVcZ",
      "include_colab_link": true
    },
    "kernelspec": {
      "name": "python3",
      "display_name": "Python 3"
    },
    "language_info": {
      "name": "python"
    }
  },
  "cells": [
    {
      "cell_type": "markdown",
      "metadata": {
        "id": "view-in-github",
        "colab_type": "text"
      },
      "source": [
        "<a href=\"https://colab.research.google.com/github/Matchuuuuu/Linear-Algebra-58019/blob/main/Practical_Lab_Exam_1.ipynb\" target=\"_parent\"><img src=\"https://colab.research.google.com/assets/colab-badge.svg\" alt=\"Open In Colab\"/></a>"
      ]
    },
    {
      "cell_type": "markdown",
      "metadata": {
        "id": "eCTaZiKhqjjl"
      },
      "source": [
        "Problem 1"
      ]
    },
    {
      "cell_type": "code",
      "metadata": {
        "colab": {
          "base_uri": "https://localhost:8080/"
        },
        "id": "Zdf2eiralvKs",
        "outputId": "e3826545-7b8a-4692-a292-debd1e38782c"
      },
      "source": [
        "import numpy as np\n",
        "\n",
        "A = np.array ([[1,2,3],[4,5,6]])\n",
        "B = np.array ([[1,2],[3,4],[5,6]])\n",
        "C = np.array ([[1,2,3],[4,5,6],[7,8,9]])\n",
        "D = np.array ([[1,2],[3,4]])\n",
        "print(A, \" \\n\") \n",
        "print(B, \" \\n\")\n",
        "print(C, \" \\n\")\n",
        "print(D, \" \\n\")"
      ],
      "execution_count": 22,
      "outputs": [
        {
          "output_type": "stream",
          "name": "stdout",
          "text": [
            "[[1 2 3]\n",
            " [4 5 6]]  \n",
            "\n",
            "[[1 2]\n",
            " [3 4]\n",
            " [5 6]]  \n",
            "\n",
            "[[1 2 3]\n",
            " [4 5 6]\n",
            " [7 8 9]]  \n",
            "\n",
            "[[1 2]\n",
            " [3 4]]  \n",
            "\n"
          ]
        }
      ]
    },
    {
      "cell_type": "code",
      "metadata": {
        "colab": {
          "base_uri": "https://localhost:8080/"
        },
        "id": "Gva2VaIypk0c",
        "outputId": "7da9bc84-457b-4073-8041-3219cfc073e5"
      },
      "source": [
        "#Number 1\n",
        "dot = np.dot(A,B)\n",
        "print   (dot)"
      ],
      "execution_count": 50,
      "outputs": [
        {
          "output_type": "stream",
          "name": "stdout",
          "text": [
            "[[22 28]\n",
            " [49 64]]\n"
          ]
        }
      ]
    },
    {
      "cell_type": "code",
      "metadata": {
        "colab": {
          "base_uri": "https://localhost:8080/"
        },
        "id": "WsnQCFckqhA5",
        "outputId": "70f68d3c-e378-422c-bd28-d3f00f980de5"
      },
      "source": [
        "#Number 2 \n",
        "D + D\n"
      ],
      "execution_count": 21,
      "outputs": [
        {
          "output_type": "execute_result",
          "data": {
            "text/plain": [
              "array([[2, 4],\n",
              "       [6, 8]])"
            ]
          },
          "metadata": {},
          "execution_count": 21
        }
      ]
    },
    {
      "cell_type": "code",
      "metadata": {
        "colab": {
          "base_uri": "https://localhost:8080/"
        },
        "id": "juKitJTUqqt_",
        "outputId": "a58bb2d1-5721-47fd-ae65-1743d0894ab4"
      },
      "source": [
        "# Number 3\n",
        "C * 2"
      ],
      "execution_count": 51,
      "outputs": [
        {
          "output_type": "execute_result",
          "data": {
            "text/plain": [
              "array([[ 2,  4,  6],\n",
              "       [ 8, 10, 12],\n",
              "       [14, 16, 18]])"
            ]
          },
          "metadata": {},
          "execution_count": 51
        }
      ]
    },
    {
      "cell_type": "markdown",
      "metadata": {
        "id": "tYsKIyo_q-QO"
      },
      "source": [
        "Problem 2 "
      ]
    },
    {
      "cell_type": "code",
      "metadata": {
        "colab": {
          "base_uri": "https://localhost:8080/"
        },
        "id": "aJTVA6BOtWCv",
        "outputId": "486b7768-446e-4b45-f1db-a96f5b386d8a"
      },
      "source": [
        "import numpy as np\n",
        "A = np.array ([5,3,-1])\n",
        "\n",
        "print(A.size)\n",
        "\n",
        "print(type(A))\n",
        "\n",
        "print(A.shape)\n",
        "\n",
        "print(A.ndim)"
      ],
      "execution_count": 53,
      "outputs": [
        {
          "output_type": "stream",
          "name": "stdout",
          "text": [
            "3\n",
            "<class 'numpy.ndarray'>\n",
            "(3,)\n",
            "1\n"
          ]
        }
      ]
    }
  ]
}