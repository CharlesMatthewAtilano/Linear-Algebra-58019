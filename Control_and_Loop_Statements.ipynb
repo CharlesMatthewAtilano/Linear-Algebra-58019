{
  "nbformat": 4,
  "nbformat_minor": 0,
  "metadata": {
    "colab": {
      "name": "Control and Loop Statements ",
      "provenance": [],
      "collapsed_sections": [],
      "authorship_tag": "ABX9TyNbIavLdI8nR3HyNljAA2xd",
      "include_colab_link": true
    },
    "kernelspec": {
      "name": "python3",
      "display_name": "Python 3"
    },
    "language_info": {
      "name": "python"
    }
  },
  "cells": [
    {
      "cell_type": "markdown",
      "metadata": {
        "id": "view-in-github",
        "colab_type": "text"
      },
      "source": [
        "<a href=\"https://colab.research.google.com/github/Matchuuuuu/Linear-Algebra-58019/blob/main/Control_and_Loop_Statements.ipynb\" target=\"_parent\"><img src=\"https://colab.research.google.com/assets/colab-badge.svg\" alt=\"Open In Colab\"/></a>"
      ]
    },
    {
      "cell_type": "markdown",
      "source": [
        "If Statements"
      ],
      "metadata": {
        "id": "tyUn5M9kbwWY"
      }
    },
    {
      "cell_type": "code",
      "execution_count": null,
      "metadata": {
        "colab": {
          "base_uri": "https://localhost:8080/"
        },
        "id": "Gm7NjiWHbtBm",
        "outputId": "b751ad39-32d5-45ce-b162-53d8531cbe1c"
      },
      "outputs": [
        {
          "output_type": "stream",
          "name": "stdout",
          "text": [
            "b is greater than a\n"
          ]
        }
      ],
      "source": [
        " a = 12\n",
        " b = 100\n",
        "\n",
        " if b > a:\n",
        "   print(\"b is greater than a\")\n"
      ]
    },
    {
      "cell_type": "markdown",
      "source": [
        "Elif Statements"
      ],
      "metadata": {
        "id": "j_jXzeIWcNRh"
      }
    },
    {
      "cell_type": "code",
      "source": [
        "\n",
        "if b > a :\n",
        "  print(\"b is greater than a\")\n",
        "\n",
        "elif a < b :\n",
        "  print(\"a is greater than b\")"
      ],
      "metadata": {
        "colab": {
          "base_uri": "https://localhost:8080/"
        },
        "id": "e1DHb2zQb29d",
        "outputId": "fa7d536c-1561-4556-cf75-6142144f44e0"
      },
      "execution_count": null,
      "outputs": [
        {
          "output_type": "stream",
          "name": "stdout",
          "text": [
            "b is greater than a\n"
          ]
        }
      ]
    },
    {
      "cell_type": "markdown",
      "source": [
        "Else Statements"
      ],
      "metadata": {
        "id": "ffdu6CEhdcpj"
      }
    },
    {
      "cell_type": "code",
      "source": [
        "a = 12\n",
        "b = 100\n",
        "\n",
        "if b > a :\n",
        "  print(\"b is greater than a\")\n",
        "\n",
        "elif a < b :\n",
        "  print(\"a is greater than b\")"
      ],
      "metadata": {
        "id": "WmTYKG1VdcQB"
      },
      "execution_count": null,
      "outputs": []
    },
    {
      "cell_type": "markdown",
      "source": [
        "Short Hand If Statements"
      ],
      "metadata": {
        "id": "IQIL_XdUd1Cq"
      }
    },
    {
      "cell_type": "code",
      "source": [
        "a = 12\n",
        "b = 100\n",
        "\n",
        "if b>a: print(\"b is greater than a\")"
      ],
      "metadata": {
        "colab": {
          "base_uri": "https://localhost:8080/"
        },
        "id": "ys0POWhjd0uC",
        "outputId": "509782be-ac3d-46fc-df0e-d8fb0f809662"
      },
      "execution_count": null,
      "outputs": [
        {
          "output_type": "stream",
          "name": "stdout",
          "text": [
            "b is greater than a\n"
          ]
        }
      ]
    },
    {
      "cell_type": "markdown",
      "source": [
        "Short Hand If Else Statements"
      ],
      "metadata": {
        "id": "9nWY9dQjeUBN"
      }
    },
    {
      "cell_type": "code",
      "source": [
        "c = 35\n",
        "d = 40\n",
        "\n",
        "if c > d : print(\"c is greater than d\")\n",
        "\n",
        "elif d > c : print(\"d is greater than c\")"
      ],
      "metadata": {
        "colab": {
          "base_uri": "https://localhost:8080/"
        },
        "id": "J8MYWKPSeT55",
        "outputId": "2f506a0b-bdf1-4a9b-a887-9a10909fac33"
      },
      "execution_count": null,
      "outputs": [
        {
          "output_type": "stream",
          "name": "stdout",
          "text": [
            "b is greater than a\n"
          ]
        }
      ]
    },
    {
      "cell_type": "markdown",
      "source": [
        "And logic - if both staetments or operands are true"
      ],
      "metadata": {
        "id": "awztmy4CfSCi"
      }
    },
    {
      "cell_type": "code",
      "source": [
        "c = 35\n",
        "d = 40 \n",
        "e = 30 \n",
        "\n",
        "if d>c and c>e: \n",
        "  print(\"Both conditions are true. \")\n",
        "  "
      ],
      "metadata": {
        "colab": {
          "base_uri": "https://localhost:8080/"
        },
        "id": "620OqYRpeWn7",
        "outputId": "e5829a50-ebd1-4244-f5de-3d7a6e596e6d"
      },
      "execution_count": null,
      "outputs": [
        {
          "output_type": "stream",
          "name": "stdout",
          "text": [
            "Both conditions are true. \n"
          ]
        }
      ]
    },
    {
      "cell_type": "markdown",
      "source": [
        "Or logic - if one of the operands is True"
      ],
      "metadata": {
        "id": "q7QWaeqagJs3"
      }
    },
    {
      "cell_type": "code",
      "source": [
        "if d>c or e>c:\n",
        "  print(\"If one of the two operands is True. \")"
      ],
      "metadata": {
        "id": "3-BbaORKgJlb"
      },
      "execution_count": null,
      "outputs": []
    },
    {
      "cell_type": "markdown",
      "source": [
        "Nested If Statements"
      ],
      "metadata": {
        "id": "fkF2kNbpgVbU"
      }
    },
    {
      "cell_type": "code",
      "source": [
        "x = int(input())\n",
        "if x>10:\n",
        "  print(\"x is above 10. \")\n",
        "  if x>20:\n",
        "    print(\"x is above 20. \")\n",
        "    if x>30:\n",
        "      print(\"x is above 30. \")\n",
        "      if x>40:\n",
        "        print(\"x is above 40. \")\n",
        "      else: \n",
        "        print(\"x is not above 40. \")  \n",
        "    else:\n",
        "     print(\"x is not above 30\")\n",
        "  else:\n",
        "     print(\"x is not above 20. \")\n",
        "    "
      ],
      "metadata": {
        "colab": {
          "base_uri": "https://localhost:8080/"
        },
        "id": "_NRTpYNIgpEk",
        "outputId": "b7d33cb6-d793-4611-d1fe-a1fd9935c90b"
      },
      "execution_count": null,
      "outputs": [
        {
          "output_type": "stream",
          "name": "stdout",
          "text": [
            "35\n",
            "x is above 10. \n",
            "x is above 20. \n",
            "x is above 30. \n",
            "x is not above 40. \n"
          ]
        }
      ]
    },
    {
      "cell_type": "markdown",
      "source": [
        "Application 1\n"
      ],
      "metadata": {
        "id": "Ys2-CS9BiroO"
      }
    },
    {
      "cell_type": "code",
      "source": [
        "\n",
        "age = int(input())\n",
        "if age <= 18:\n",
        "    print (\"You are not qualified to vote. \")\n",
        "else:\n",
        "    print (\"You are qualified to vote. \")\n",
        "\n",
        "    "
      ],
      "metadata": {
        "colab": {
          "base_uri": "https://localhost:8080/"
        },
        "id": "uBSa6wC7iscz",
        "outputId": "ae11ebaa-ef8b-4e7b-e437-f8d27587a18e"
      },
      "execution_count": null,
      "outputs": [
        {
          "output_type": "stream",
          "name": "stdout",
          "text": [
            "1\n",
            "You are not qualified. \n"
          ]
        }
      ]
    },
    {
      "cell_type": "markdown",
      "source": [
        "Application 2"
      ],
      "metadata": {
        "id": "x8NMv5Upjubr"
      }
    },
    {
      "cell_type": "code",
      "source": [
        "input_number = int(input())\n",
        "\n",
        "if input_number > 0:\n",
        "  print(\"The number is positive. \")\n",
        "elif input_number < 0:\n",
        "  print(\"The number is negative. \")\n",
        "else:\n",
        "  print(\"The number is zero. \")"
      ],
      "metadata": {
        "colab": {
          "base_uri": "https://localhost:8080/"
        },
        "id": "VXFFoeygI3N5",
        "outputId": "64631f7b-8c9a-4e0f-875d-858af5d02222"
      },
      "execution_count": 1,
      "outputs": [
        {
          "output_type": "stream",
          "name": "stdout",
          "text": [
            "1\n",
            "The number is positive. \n"
          ]
        }
      ]
    },
    {
      "cell_type": "markdown",
      "source": [
        "For Loop  Statements"
      ],
      "metadata": {
        "id": "1lQerNsXkNfO"
      }
    },
    {
      "cell_type": "code",
      "source": [
        "week = (\"Sunday\", \"Monday\", \"Tuesday\", \"Wednesday\", \"Thursday\", \"Friday\", \"Saturday\")\n",
        "for x in week: print(x)"
      ],
      "metadata": {
        "colab": {
          "base_uri": "https://localhost:8080/"
        },
        "id": "chpcsdcCjwHf",
        "outputId": "72c3edbe-7c27-435c-d4e7-e75cab5c9a3e"
      },
      "execution_count": 3,
      "outputs": [
        {
          "output_type": "stream",
          "name": "stdout",
          "text": [
            "Sunday\n",
            "Monday\n",
            "Tuesday\n",
            "Wednesday\n",
            "Thursday\n",
            "Friday\n",
            "Saturday\n"
          ]
        }
      ]
    },
    {
      "cell_type": "markdown",
      "source": [
        "The Break Statement"
      ],
      "metadata": {
        "id": "QB3UV01rlRmv"
      }
    },
    {
      "cell_type": "code",
      "source": [
        "for x in week:\n",
        "  print(x)\n",
        "\n",
        "  if x == \"Thursday\":\n",
        "    break"
      ],
      "metadata": {
        "id": "fSfRyTG-lT6c",
        "colab": {
          "base_uri": "https://localhost:8080/"
        },
        "outputId": "4b63dbc8-a11e-4c59-e47b-74e5985d66a4"
      },
      "execution_count": 4,
      "outputs": [
        {
          "output_type": "stream",
          "name": "stdout",
          "text": [
            "Sunday\n",
            "Monday\n",
            "Tuesday\n",
            "Wednesday\n",
            "Thursday\n"
          ]
        }
      ]
    },
    {
      "cell_type": "markdown",
      "source": [
        "While Loop"
      ],
      "metadata": {
        "id": "ssYTsbwyJsR3"
      }
    },
    {
      "cell_type": "code",
      "source": [
        "y = 3\n",
        "while y<6:\n",
        "  print(y)\n",
        "\n",
        "  if y == 3:\n",
        "    break\n",
        "    y+=1"
      ],
      "metadata": {
        "colab": {
          "base_uri": "https://localhost:8080/"
        },
        "id": "-lHjJMddJp_g",
        "outputId": "dfe923e4-2612-4672-af97-510c628de90b"
      },
      "execution_count": 9,
      "outputs": [
        {
          "output_type": "stream",
          "name": "stdout",
          "text": [
            "3\n"
          ]
        }
      ]
    }
  ]
}