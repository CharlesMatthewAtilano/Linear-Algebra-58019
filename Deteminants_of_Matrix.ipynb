{
  "nbformat": 4,
  "nbformat_minor": 0,
  "metadata": {
    "colab": {
      "name": "Deteminants of Matrix",
      "provenance": [],
      "authorship_tag": "ABX9TyP+lgODxcKFdsp49YtC+u3k",
      "include_colab_link": true
    },
    "kernelspec": {
      "name": "python3",
      "display_name": "Python 3"
    },
    "language_info": {
      "name": "python"
    }
  },
  "cells": [
    {
      "cell_type": "markdown",
      "metadata": {
        "id": "view-in-github",
        "colab_type": "text"
      },
      "source": [
        "<a href=\"https://colab.research.google.com/github/Matchuuuuu/Linear-Algebra-58019/blob/main/Deteminants_of_Matrix.ipynb\" target=\"_parent\"><img src=\"https://colab.research.google.com/assets/colab-badge.svg\" alt=\"Open In Colab\"/></a>"
      ]
    },
    {
      "cell_type": "code",
      "metadata": {
        "colab": {
          "base_uri": "https://localhost:8080/"
        },
        "id": "fEePTuHDy326",
        "outputId": "f362139e-5eec-46f2-ce1c-3165a3b3529e"
      },
      "source": [
        "import numpy as np\n",
        "A = np.array([[1,2,-1],[4,6,-2],[-1,3,3]])\n",
        "print (A)\n"
      ],
      "execution_count": 1,
      "outputs": [
        {
          "output_type": "stream",
          "name": "stdout",
          "text": [
            "[[ 1  2 -1]\n",
            " [ 4  6 -2]\n",
            " [-1  3  3]]\n"
          ]
        }
      ]
    },
    {
      "cell_type": "code",
      "metadata": {
        "colab": {
          "base_uri": "https://localhost:8080/"
        },
        "id": "0fZ-wR60AZnK",
        "outputId": "a09766cc-3dc4-4689-9199-b806c691238d"
      },
      "source": [
        "import numpy as np\n",
        "A = np.array([[1,2,-1],[4,6,-2],[-1,3,3]])\n",
        "print (A)\n",
        "print(round(np.linalg.det(A)))"
      ],
      "execution_count": 7,
      "outputs": [
        {
          "output_type": "stream",
          "name": "stdout",
          "text": [
            "[[ 1  2 -1]\n",
            " [ 4  6 -2]\n",
            " [-1  3  3]]\n",
            "-14\n"
          ]
        }
      ]
    }
  ]
}