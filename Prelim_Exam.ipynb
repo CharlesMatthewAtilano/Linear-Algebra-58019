{
  "nbformat": 4,
  "nbformat_minor": 0,
  "metadata": {
    "colab": {
      "name": "Prelim Exam",
      "provenance": [],
      "authorship_tag": "ABX9TyNuK3nS0UMImTszjXlxzXRa",
      "include_colab_link": true
    },
    "kernelspec": {
      "name": "python3",
      "display_name": "Python 3"
    },
    "language_info": {
      "name": "python"
    }
  },
  "cells": [
    {
      "cell_type": "markdown",
      "metadata": {
        "id": "view-in-github",
        "colab_type": "text"
      },
      "source": [
        "<a href=\"https://colab.research.google.com/github/Matchuuuuu/Linear-Algebra-58019/blob/main/Prelim_Exam.ipynb\" target=\"_parent\"><img src=\"https://colab.research.google.com/assets/colab-badge.svg\" alt=\"Open In Colab\"/></a>"
      ]
    },
    {
      "cell_type": "markdown",
      "metadata": {
        "id": "y_chOq_JhscZ"
      },
      "source": [
        "**Question 1. (20 points) **\n",
        "Create a 4 x 4 matrix whose diagonal elements are all one (1's). Name it as matrix \"C\". Show your solutions using Python codes and do not forget to label them on the Text Cell."
      ]
    },
    {
      "cell_type": "code",
      "metadata": {
        "colab": {
          "base_uri": "https://localhost:8080/"
        },
        "id": "D59SurxwhsMK",
        "outputId": "e67080b1-eb90-478b-d0f3-3b1008bf5095"
      },
      "source": [
        "#Matrix C\n",
        "\n",
        "import numpy as np\n",
        "f = np.eye(4)\n",
        "print(f)"
      ],
      "execution_count": 1,
      "outputs": [
        {
          "output_type": "stream",
          "name": "stdout",
          "text": [
            "[[1. 0. 0. 0.]\n",
            " [0. 1. 0. 0.]\n",
            " [0. 0. 1. 0.]\n",
            " [0. 0. 0. 1.]]\n"
          ]
        }
      ]
    },
    {
      "cell_type": "markdown",
      "metadata": {
        "id": "QR11i9itiQCM"
      },
      "source": [
        "**Question 2. (20 points) **\n",
        "In relation to Question 1, show a solution that doubles all the values of each element. Show your solutions using Python codes and do not forget to label them on the Text Cell."
      ]
    },
    {
      "cell_type": "code",
      "metadata": {
        "colab": {
          "base_uri": "https://localhost:8080/"
        },
        "id": "HwV6nuckiSAE",
        "outputId": "722bcb28-6884-48a5-b2bb-1af20e5b0e17"
      },
      "source": [
        "import numpy as np\n",
        "f = np.eye(4)\n",
        "print(f*2)"
      ],
      "execution_count": 15,
      "outputs": [
        {
          "output_type": "stream",
          "name": "stdout",
          "text": [
            "[[2. 0. 0. 0.]\n",
            " [0. 2. 0. 0.]\n",
            " [0. 0. 2. 0.]\n",
            " [0. 0. 0. 2.]]\n"
          ]
        }
      ]
    },
    {
      "cell_type": "markdown",
      "metadata": {
        "id": "6lvklfu-i9UJ"
      },
      "source": [
        "**Question 3. (10 points) **\n",
        "Find the cross-product of matrices, A = [2,7,4] and\n",
        "\n",
        "B = [3,9,8]. Show your solutions using Python codes and do not forget to label them on the Text Cell.\n",
        "\n"
      ]
    },
    {
      "cell_type": "code",
      "metadata": {
        "colab": {
          "base_uri": "https://localhost:8080/"
        },
        "id": "V154NvFRjAlG",
        "outputId": "933f2557-df7f-4a3d-f846-773ecf52d999"
      },
      "source": [
        "A = np.array([2,7,4])\n",
        "B = np.array([3,9,8])\n",
        "cross = np.cross(A,B)\n",
        "print(cross)"
      ],
      "execution_count": 2,
      "outputs": [
        {
          "output_type": "stream",
          "name": "stdout",
          "text": [
            "[20 -4 -3]\n"
          ]
        }
      ]
    }
  ]
}