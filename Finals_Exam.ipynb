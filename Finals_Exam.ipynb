{
  "nbformat": 4,
  "nbformat_minor": 0,
  "metadata": {
    "colab": {
      "name": "Finals Exam",
      "provenance": [],
      "authorship_tag": "ABX9TyPIUT69AcCiQn+T886l2M2X",
      "include_colab_link": true
    },
    "kernelspec": {
      "name": "python3",
      "display_name": "Python 3"
    },
    "language_info": {
      "name": "python"
    }
  },
  "cells": [
    {
      "cell_type": "markdown",
      "metadata": {
        "id": "view-in-github",
        "colab_type": "text"
      },
      "source": [
        "<a href=\"https://colab.research.google.com/github/Matchuuuuu/Linear-Algebra-58019/blob/main/Finals_Exam.ipynb\" target=\"_parent\"><img src=\"https://colab.research.google.com/assets/colab-badge.svg\" alt=\"Open In Colab\"/></a>"
      ]
    },
    {
      "cell_type": "markdown",
      "source": [
        "Problem 1. Student A, Student B, and Student C have a total of Php 89 cash in their banks. Student A has 6 less than Student C. Student B has 3 times what Student C has. How much does each student have? (30 points)"
      ],
      "metadata": {
        "id": "b0OS4dTYPU1j"
      }
    },
    {
      "cell_type": "code",
      "execution_count": 4,
      "metadata": {
        "colab": {
          "base_uri": "https://localhost:8080/"
        },
        "id": "szmgjUmZOazW",
        "outputId": "0c37ebf9-f58b-41fd-8067-2a3656ac9bfc"
      },
      "outputs": [
        {
          "output_type": "stream",
          "name": "stdout",
          "text": [
            "[[13.]\n",
            " [57.]\n",
            " [19.]]\n"
          ]
        }
      ],
      "source": [
        "import numpy as np\n",
        "a = np.array([[1,1,1],[1,0,4],[0,0,5]])\n",
        "b = np.array([[89],[89],[95]])\n",
        "c = np.linalg.inv(a).dot(b)\n",
        "print(c)"
      ]
    },
    {
      "cell_type": "markdown",
      "source": [
        "Problem 2. Solve each system: (30 points)\n",
        "\n",
        "3x - y + z = 5\n",
        "\n",
        "9x - 3y +3z = 15\n",
        "\n",
        "-12x +4y -4z = -20 "
      ],
      "metadata": {
        "id": "DLKfCBGNPXRC"
      }
    },
    {
      "cell_type": "markdown",
      "source": [
        "The problem cannot be solved because the one of the given is in a form of a singular matrix hence they are inconsistent and there will be no solutions.\n"
      ],
      "metadata": {
        "id": "vlf9uKiTYiiD"
      }
    },
    {
      "cell_type": "markdown",
      "source": [
        "Problem 3. Consider the matrix, (40 points)\n",
        "1. Find the eigenvalue/s\n",
        "2. Find the eigenvectors\n"
      ],
      "metadata": {
        "id": "BlObnaM5PZQ_"
      }
    },
    {
      "cell_type": "code",
      "source": [
        "import numpy as np\n",
        "from scipy.linalg import solve\n",
        "from numpy.linalg import eig\n",
        "\n",
        "a = np.array([[8,5,-6],[-12,9,12],[-3,-3,5]])\n",
        "w,v = np.linalg.eig(a)\n",
        "print(\"The eigenvalues are\", w)\n",
        "print(\"The right eigenvectors are\", v)"
      ],
      "metadata": {
        "colab": {
          "base_uri": "https://localhost:8080/"
        },
        "id": "bEEfu5dZPjOa",
        "outputId": "ac27dace-7220-491d-bc41-a460217442c1"
      },
      "execution_count": 2,
      "outputs": [
        {
          "output_type": "stream",
          "name": "stdout",
          "text": [
            "The eigenvalues are [10.+9.74679434j 10.-9.74679434j  2.+0.j        ]\n",
            "The right eigenvectors are [[-6.19826768e-02-0.44653265j -6.19826768e-02+0.44653265j\n",
            "   7.07106781e-01+0.j        ]\n",
            " [ 8.56977879e-01+0.j          8.56977879e-01-0.j\n",
            "  -1.66861154e-16+0.j        ]\n",
            " [ 9.43214647e-03+0.24953295j  9.43214647e-03-0.24953295j\n",
            "   7.07106781e-01+0.j        ]]\n"
          ]
        }
      ]
    }
  ]
}